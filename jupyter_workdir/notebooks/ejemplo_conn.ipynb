{
 "cells": [
  {
   "cell_type": "code",
   "execution_count": 6,
   "id": "4803a716-35b3-4c20-a7c3-8ac9c4b2c160",
   "metadata": {
    "tags": []
   },
   "outputs": [],
   "source": [
    "import os\n",
    "\n",
    "from pyspark.sql import SparkSession\n",
    "\n",
    "driver_path = \"/home/working_dir/driver_jdbc/postgresql-42.2.27.jre7.jar\"\n",
    "\n",
    "os.environ['PYSPARK_SUBMIT_ARGS'] = f'--driver-class-path {driver_path} --jars {driver_path} pyspark-shell'\n",
    "os.environ['SPARK_CLASSPATH'] = driver_path\n",
    "\n",
    "# Create SparkSession \n",
    "spark = SparkSession.builder \\\n",
    "        .master(\"local\") \\\n",
    "        .appName(\"Conexion entre Pyspark y Postgres\") \\\n",
    "        .config(\"spark.jars\", driver_path) \\\n",
    "        .config(\"spark.executor.extraClassPath\", driver_path) \\\n",
    "        .getOrCreate()"
   ]
  },
  {
   "cell_type": "code",
   "execution_count": 7,
   "id": "04dca66a-90b9-4afc-a3ed-01f32be8a634",
   "metadata": {
    "tags": []
   },
   "outputs": [
    {
     "data": {
      "text/html": [
       "\n",
       "            <div>\n",
       "                <p><b>SparkSession - in-memory</b></p>\n",
       "                \n",
       "        <div>\n",
       "            <p><b>SparkContext</b></p>\n",
       "\n",
       "            <p><a href=\"http://e96c3f557451:4040\">Spark UI</a></p>\n",
       "\n",
       "            <dl>\n",
       "              <dt>Version</dt>\n",
       "                <dd><code>v3.4.0</code></dd>\n",
       "              <dt>Master</dt>\n",
       "                <dd><code>local</code></dd>\n",
       "              <dt>AppName</dt>\n",
       "                <dd><code>Conexion entre Pyspark y Postgres</code></dd>\n",
       "            </dl>\n",
       "        </div>\n",
       "        \n",
       "            </div>\n",
       "        "
      ],
      "text/plain": [
       "<pyspark.sql.session.SparkSession at 0x7fad63ee0310>"
      ]
     },
     "execution_count": 7,
     "metadata": {},
     "output_type": "execute_result"
    }
   ],
   "source": [
    "spark"
   ]
  },
  {
   "cell_type": "markdown",
   "id": "2bb2bbae-1e91-4b8f-8972-bf3988f48ddd",
   "metadata": {},
   "source": [
    "Creamos un DataFrame de ejemplo y lo escribimos en nuestra BD"
   ]
  },
  {
   "cell_type": "code",
   "execution_count": 20,
   "id": "3afd3a82-95b1-4fa2-bffc-f4e1dfbd64e3",
   "metadata": {
    "tags": []
   },
   "outputs": [
    {
     "name": "stdout",
     "output_type": "stream",
     "text": [
      "root\n",
      " |-- firstname: string (nullable = true)\n",
      " |-- middlename: string (nullable = true)\n",
      " |-- lastname: string (nullable = true)\n",
      " |-- id: string (nullable = true)\n",
      " |-- gender: string (nullable = true)\n",
      " |-- salary: integer (nullable = true)\n",
      "\n",
      "+---------+----------+--------+-----+------+------+\n",
      "|firstname|middlename|lastname|id   |gender|salary|\n",
      "+---------+----------+--------+-----+------+------+\n",
      "|James    |          |Smith   |36636|M     |3000  |\n",
      "|Michael  |Rose      |        |40288|M     |4000  |\n",
      "|Robert   |          |Williams|42114|M     |4000  |\n",
      "|Maria    |Anne      |Jones   |39192|F     |4000  |\n",
      "|Jen      |Mary      |Brown   |     |F     |-1    |\n",
      "+---------+----------+--------+-----+------+------+\n",
      "\n"
     ]
    }
   ],
   "source": [
    "# Ejemplo extraido de: https://sparkbyexamples.com/pyspark/different-ways-to-create-dataframe-in-pyspark/\n",
    "\n",
    "from pyspark.sql.types import StructType,StructField, StringType, IntegerType\n",
    "\n",
    "data2 = [(\"James\",\"\",\"Smith\",\"36636\",\"M\",3000),\n",
    "    (\"Michael\",\"Rose\",\"\",\"40288\",\"M\",4000),\n",
    "    (\"Robert\",\"\",\"Williams\",\"42114\",\"M\",4000),\n",
    "    (\"Maria\",\"Anne\",\"Jones\",\"39192\",\"F\",4000),\n",
    "    (\"Jen\",\"Mary\",\"Brown\",\"\",\"F\",-1)\n",
    "  ]\n",
    "\n",
    "schema = StructType([ \\\n",
    "    StructField(\"firstname\",StringType(),True), \\\n",
    "    StructField(\"middlename\",StringType(),True), \\\n",
    "    StructField(\"lastname\",StringType(),True), \\\n",
    "    StructField(\"id\", StringType(), True), \\\n",
    "    StructField(\"gender\", StringType(), True), \\\n",
    "    StructField(\"salary\", IntegerType(), True) \\\n",
    "  ])\n",
    " \n",
    "df = spark.createDataFrame(data=data2,schema=schema)\n",
    "df.printSchema()\n",
    "df.show(truncate=False)"
   ]
  },
  {
   "cell_type": "markdown",
   "id": "29af712a-7a81-417d-b3ea-e9f25a3b19c3",
   "metadata": {},
   "source": [
    "## Conexión a la base de datos local (en postgresql) + creación de base de datos"
   ]
  },
  {
   "cell_type": "code",
   "execution_count": 19,
   "id": "67c3ea9d-96fd-4e7e-beea-e8207ad5bcb8",
   "metadata": {
    "tags": []
   },
   "outputs": [
    {
     "name": "stdout",
     "output_type": "stream",
     "text": [
      "Collecting psycopg2-binary\n",
      "  Downloading psycopg2_binary-2.9.7-cp310-cp310-manylinux_2_17_x86_64.manylinux2014_x86_64.whl (3.0 MB)\n",
      "\u001b[2K     \u001b[90m━━━━━━━━━━━━━━━━━━━━━━━━━━━━━━━━━━━━━━━━\u001b[0m \u001b[32m3.0/3.0 MB\u001b[0m \u001b[31m14.2 MB/s\u001b[0m eta \u001b[36m0:00:00\u001b[0m00:01\u001b[0m00:01\u001b[0m\n",
      "\u001b[?25hInstalling collected packages: psycopg2-binary\n",
      "Successfully installed psycopg2-binary-2.9.7\n"
     ]
    }
   ],
   "source": [
    "!pip install psycopg2-binary"
   ]
  },
  {
   "cell_type": "code",
   "execution_count": 9,
   "id": "d43527fd-2bf4-44e0-baa8-a2bba5f3eafa",
   "metadata": {
    "tags": []
   },
   "outputs": [],
   "source": [
    "# EXTRACTO DE: https://kb.objectrocket.com/postgresql/create-a-postgresql-database-using-the-psycopg2-python-library-755\n",
    "\n",
    "# import the psycopg2 database adapter for PostgreSQL\n",
    "from psycopg2 import connect, extensions, sql"
   ]
  },
  {
   "cell_type": "code",
   "execution_count": 13,
   "id": "dd64a245-d598-46a7-8d4c-9b99b727a3b0",
   "metadata": {
    "tags": []
   },
   "outputs": [
    {
     "name": "stdout",
     "output_type": "stream",
     "text": [
      "\n",
      "type(conn): <class 'psycopg2.extensions.connection'>\n"
     ]
    }
   ],
   "source": [
    "# declare a new PostgreSQL connection object\n",
    "conn = connect(\n",
    "    user = \"postgres\",\n",
    "    host = \"postgres_db\",\n",
    "    password = \"postgres\",\n",
    "    port = \"5435\"\n",
    ")\n",
    "\n",
    "# object type: psycopg2.extensions.connection\n",
    "print (\"\\ntype(conn):\", type(conn))"
   ]
  },
  {
   "cell_type": "code",
   "execution_count": 16,
   "id": "2089a4ec-fd42-4863-beee-731d29bba277",
   "metadata": {
    "tags": []
   },
   "outputs": [],
   "source": [
    "# string for the new database name to be created\n",
    "DB_NAME = \"ejemplo_db\""
   ]
  },
  {
   "cell_type": "code",
   "execution_count": 15,
   "id": "bc7d5b6a-33b4-4e05-885d-8a24fdb1411b",
   "metadata": {
    "tags": []
   },
   "outputs": [
    {
     "name": "stdout",
     "output_type": "stream",
     "text": [
      "ISOLATION_LEVEL_AUTOCOMMIT: 0\n"
     ]
    }
   ],
   "source": [
    "# get the isolation leve for autocommit\n",
    "autocommit = extensions.ISOLATION_LEVEL_AUTOCOMMIT\n",
    "print (\"ISOLATION_LEVEL_AUTOCOMMIT:\", extensions.ISOLATION_LEVEL_AUTOCOMMIT)\n",
    "\n",
    "# set the isolation level for the connection's cursors\n",
    "# will raise ActiveSqlTransaction exception otherwise\n",
    "conn.set_isolation_level( autocommit )"
   ]
  },
  {
   "cell_type": "markdown",
   "id": "31146a14-3348-4f02-b18d-270a1098f36f",
   "metadata": {},
   "source": [
    "Creamos la base de datos"
   ]
  },
  {
   "cell_type": "code",
   "execution_count": 17,
   "id": "467bc8bb-e265-4bd6-97cd-70e7db962282",
   "metadata": {
    "tags": []
   },
   "outputs": [],
   "source": [
    "# instantiate a cursor object from the connection\n",
    "cursor = conn.cursor()\n",
    "\n",
    "# use the execute() method to make a SQL request\n",
    "cursor.execute('CREATE DATABASE ' + str(DB_NAME))"
   ]
  },
  {
   "cell_type": "markdown",
   "id": "4795c06b-76ba-4fb1-b79f-3e7a7b758827",
   "metadata": {},
   "source": [
    "## Escritura en la base de datos (postgresql), usando pyspark"
   ]
  },
  {
   "cell_type": "code",
   "execution_count": 18,
   "id": "15d17615-9739-4a17-a4a8-c28ce2acd2e9",
   "metadata": {
    "tags": []
   },
   "outputs": [],
   "source": [
    "# Postgres connection settings\n",
    "pg_url = \"jdbc:postgresql://postgres_db:5435/\"\n",
    "pg_user = \"postgres\" # not recommended to have this value in the code\n",
    "pg_password = \"postgres\" # not recommended to have this value in the code\n",
    "pg_driver = \"org.postgresql.Driver\""
   ]
  },
  {
   "cell_type": "code",
   "execution_count": 21,
   "id": "a5e83dbe-29c7-4b86-b178-8f5b27473612",
   "metadata": {
    "tags": []
   },
   "outputs": [],
   "source": [
    "df.write \\\n",
    "    .mode('overwrite') \\\n",
    "    .format(\"jdbc\") \\\n",
    "    .option(\"url\", pg_url+\"ejemplo_db\") \\\n",
    "    .option(\"dbtable\", \"salarios\") \\\n",
    "    .option(\"user\", pg_user) \\\n",
    "    .option(\"password\", pg_password) \\\n",
    "    .option(\"driver\", pg_driver) \\\n",
    "    .save()"
   ]
  },
  {
   "cell_type": "markdown",
   "id": "5ae93b29-a94b-45f1-890a-76bb821d67fd",
   "metadata": {},
   "source": [
    "## Lectura de tabla desde la BD a pyspark dataframe"
   ]
  },
  {
   "cell_type": "code",
   "execution_count": 22,
   "id": "024a2d9f-0154-44ad-8468-fa7cc9e26b28",
   "metadata": {
    "tags": []
   },
   "outputs": [],
   "source": [
    "# Create the connection and read the table\n",
    "df_lectura = spark.read \\\n",
    "    .format(\"jdbc\") \\\n",
    "    .option(\"url\", pg_url+\"ejemplo_db\") \\\n",
    "    .option(\"dbtable\", \"salarios\") \\\n",
    "    .option(\"user\", pg_user) \\\n",
    "    .option(\"password\", pg_password) \\\n",
    "    .option(\"driver\", pg_driver) \\\n",
    "    .load()"
   ]
  },
  {
   "cell_type": "code",
   "execution_count": 24,
   "id": "a29ae62b-4162-46b5-8c65-919d5f51244e",
   "metadata": {
    "tags": []
   },
   "outputs": [
    {
     "name": "stdout",
     "output_type": "stream",
     "text": [
      "root\n",
      " |-- firstname: string (nullable = true)\n",
      " |-- middlename: string (nullable = true)\n",
      " |-- lastname: string (nullable = true)\n",
      " |-- id: string (nullable = true)\n",
      " |-- gender: string (nullable = true)\n",
      " |-- salary: integer (nullable = true)\n",
      "\n"
     ]
    }
   ],
   "source": [
    "df_lectura.printSchema()"
   ]
  },
  {
   "cell_type": "code",
   "execution_count": 25,
   "id": "26423401-c40c-431d-b3ea-c72d623e5c46",
   "metadata": {
    "tags": []
   },
   "outputs": [
    {
     "name": "stdout",
     "output_type": "stream",
     "text": [
      "+---------+----------+--------+-----+------+------+\n",
      "|firstname|middlename|lastname|   id|gender|salary|\n",
      "+---------+----------+--------+-----+------+------+\n",
      "|    James|          |   Smith|36636|     M|  3000|\n",
      "|  Michael|      Rose|        |40288|     M|  4000|\n",
      "|   Robert|          |Williams|42114|     M|  4000|\n",
      "|    Maria|      Anne|   Jones|39192|     F|  4000|\n",
      "|      Jen|      Mary|   Brown|     |     F|    -1|\n",
      "+---------+----------+--------+-----+------+------+\n",
      "\n"
     ]
    }
   ],
   "source": [
    "df_lectura.show()"
   ]
  },
  {
   "cell_type": "code",
   "execution_count": null,
   "id": "248dfcfe-74cc-4f7f-9195-17846926b948",
   "metadata": {},
   "outputs": [],
   "source": []
  }
 ],
 "metadata": {
  "kernelspec": {
   "display_name": "Python 3 (ipykernel)",
   "language": "python",
   "name": "python3"
  },
  "language_info": {
   "codemirror_mode": {
    "name": "ipython",
    "version": 3
   },
   "file_extension": ".py",
   "mimetype": "text/x-python",
   "name": "python",
   "nbconvert_exporter": "python",
   "pygments_lexer": "ipython3",
   "version": "3.10.10"
  }
 },
 "nbformat": 4,
 "nbformat_minor": 5
}
